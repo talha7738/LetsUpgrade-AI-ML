{
 "cells": [
  {
   "cell_type": "code",
   "execution_count": 3,
   "metadata": {},
   "outputs": [
    {
     "name": "stdout",
     "output_type": "stream",
     "text": [
      "subtract two complex numbers is:: (1-1j)\n"
     ]
    }
   ],
   "source": [
    "#Write a program to subtract two complex numbers in Python.\n",
    "\n",
    "def subComplex(x1,x2):\n",
    "    return x1-x2\n",
    "x1=complex(2,3)\n",
    "x2=complex(1,4)\n",
    "print('subtract two complex numbers is::',subComplex(x1,x2))\n"
   ]
  },
  {
   "cell_type": "code",
   "execution_count": 28,
   "metadata": {},
   "outputs": [
    {
     "name": "stdout",
     "output_type": "stream",
     "text": [
      "Enter a no.256\n",
      "forth root of256 is =4.0 \n"
     ]
    }
   ],
   "source": [
    "#Write a program to find the fourth root of a number.\n",
    "def forth(num):\n",
    "    return num**(1/4)\n",
    "num=int(input(\"Enter a no.\"))\n",
    "print(\"forth root of{0} is ={1} \" .format(num,forth(num)))\n"
   ]
  },
  {
   "cell_type": "code",
   "execution_count": 32,
   "metadata": {},
   "outputs": [
    {
     "name": "stdout",
     "output_type": "stream",
     "text": [
      "Enter num 1....4\n",
      "Enter num 2....78\n",
      "swap no. is num 1= 78 num 2= 4\n"
     ]
    }
   ],
   "source": [
    "#Write a program to swap two numbers in Python with the help of a temporary variable\n",
    "      \n",
    "num1=int(input('Enter num 1....'))\n",
    "num2=int(input('Enter num 2....'))\n",
    "\n",
    "temp=num1\n",
    "num1=num2\n",
    "num2=temp\n",
    "print ('swap no. is num 1=',num1,'num 2=',num2)"
   ]
  },
  {
   "cell_type": "code",
   "execution_count": 33,
   "metadata": {},
   "outputs": [
    {
     "name": "stdout",
     "output_type": "stream",
     "text": [
      "Enter num 1....23\n",
      "Enter num 2....3\n",
      "swap no. is num 1= 3 num 2= 23\n"
     ]
    }
   ],
   "source": [
    "#Write a program to swap two numbers in Python without using a temporary variable.\n",
    "\n",
    "num1=int(input('Enter num 1....'))\n",
    "num2=int(input('Enter num 2....'))\n",
    "\n",
    "num1=num1+num2\n",
    "num2=num1-num2\n",
    "num1=num1-num2\n",
    "print ('swap no. is num 1=',num1,'num 2=',num2)\n"
   ]
  },
  {
   "cell_type": "code",
   "execution_count": 2,
   "metadata": {},
   "outputs": [
    {
     "name": "stdout",
     "output_type": "stream",
     "text": [
      "Enter a temperature in fahrenheit...100\n",
      "temp in celsius is = 37.77777777777778\n",
      "temp in Kelvin is = 310.9277777777778\n"
     ]
    }
   ],
   "source": [
    "#Write a program to convert fahrenheit to kelvin and celsius both.\n",
    "\n",
    "def celsius(i):\n",
    "    return (5/9)*(i-32)\n",
    "def kelvin(i):\n",
    "    return (i +459.67)*(5/9)\n",
    "\n",
    "fa=float(input('Enter a temperature in fahrenheit...'))\n",
    "print('temp in celsius is =',celsius(fa))\n",
    "print('temp in Kelvin is =',kelvin(fa))\n"
   ]
  },
  {
   "cell_type": "code",
   "execution_count": 9,
   "metadata": {},
   "outputs": [
    {
     "name": "stdout",
     "output_type": "stream",
     "text": [
      "<class 'int'>\n",
      "<class 'str'>\n",
      "<class 'float'>\n",
      "<class 'complex'>\n",
      "<class 'list'>\n",
      "<class 'tuple'>\n",
      "<class 'range'>\n",
      "<class 'dict'>\n",
      "<class 'set'>\n",
      "<class 'frozenset'>\n",
      "<class 'bool'>\n",
      "<class 'bytes'>\n",
      "<class 'bytearray'>\n",
      "<class 'memoryview'>\n"
     ]
    }
   ],
   "source": [
    "#Write a program to demonstrate all the available data types in Python. Hint: Use type() function.\n",
    "\n",
    "x = 5\n",
    "print(type(x))\n",
    "print(type(\"Hello World\"))\n",
    "print(type(20.5))\n",
    "print(type(1j))\n",
    "print(type([\"apple\", \"banana\", \"cherry\"]))\n",
    "print(type((\"apple\", \"banana\", \"cherry\")))\n",
    "print(type(range(6)))\n",
    "print(type({\"name\" : \"John\", \"age\" : 36}))\n",
    "print(type({\"apple\", \"banana\", \"cherry\"}))\n",
    "print(type(frozenset({\"apple\", \"banana\", \"cherry\"})))\n",
    "print(type(True))\n",
    "print(type(b\"Hello\"))\n",
    "print(type(bytearray(5)))\n",
    "print(type(memoryview(bytes(5))))"
   ]
  },
  {
   "cell_type": "markdown",
   "metadata": {},
   "source": [
    "#Create a Markdown cell in jupyter and list the steps discussed in the session by Dr. Darshan\n",
    "Ingle sir to create Github profile and upload Githubs Assignment link.\n",
    "\n",
    "step 1:Create a Github public repo and name it LetsUpgrade AI/ML \n",
    "step 2:Upload the files/solution in the repo in day wise manner.  \n",
    "step 3:Copy the URL of the Folder of that day and paste in the Assignment Submission Form (Google Form) w\n",
    "step 4:Make sure you are filling correct details in the Assignment Submission Form. \n",
    "step 5:All the drop-downs will be available till the week end only. i.e Previous weeks drop-down will disappear on each Sunday 11:59 PM"
   ]
  },
  {
   "cell_type": "code",
   "execution_count": null,
   "metadata": {},
   "outputs": [],
   "source": []
  },
  {
   "cell_type": "code",
   "execution_count": null,
   "metadata": {},
   "outputs": [],
   "source": []
  },
  {
   "cell_type": "code",
   "execution_count": null,
   "metadata": {},
   "outputs": [],
   "source": []
  }
 ],
 "metadata": {
  "kernelspec": {
   "display_name": "Python 3",
   "language": "python",
   "name": "python3"
  },
  "language_info": {
   "codemirror_mode": {
    "name": "ipython",
    "version": 3
   },
   "file_extension": ".py",
   "mimetype": "text/x-python",
   "name": "python",
   "nbconvert_exporter": "python",
   "pygments_lexer": "ipython3",
   "version": "3.7.6"
  }
 },
 "nbformat": 4,
 "nbformat_minor": 4
}
