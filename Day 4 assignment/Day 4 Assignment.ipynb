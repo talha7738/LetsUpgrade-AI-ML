{
 "cells": [
  {
   "cell_type": "code",
   "execution_count": 7,
   "metadata": {},
   "outputs": [
    {
     "name": "stdout",
     "output_type": "stream",
     "text": [
      "<class 'complex'>\n",
      "complex no. c1= (2+3j)\n",
      "<class 'complex'>\n",
      "complex no. c2= (4+6j)\n",
      "real part of c1 is = 2.0\n",
      "imaginary part of c1 is = 3.0\n",
      "conjugate part of c1 is = (2-3j)\n",
      "Addition of c1 and c2 is (6+9j)\n",
      "Addition of c1 and c2 is (-2-3j)\n",
      "Addition of c1 and c2 is (-10+24j)\n",
      "Addition of c1 and c2 is (0.5+0j)\n"
     ]
    }
   ],
   "source": [
    "\"\"\"Research on whether addition, subtraction, multiplication, division, floor division and modulo\n",
    "operations be performed on complex numbers. Based on your study, implement a Python\n",
    "program to demonstrate these operations.\"\"\"\n",
    "\n",
    "c1=2+3j\n",
    "print(type(c1))\n",
    "print('complex no. c1=',c1)\n",
    "\n",
    "c2=complex(4,6)\n",
    "print(type(c2))\n",
    "print('complex no. c2=',c2)\n",
    "\n",
    "print('real part of c1 is =',c1.real)\n",
    "print('imaginary part of c1 is =',c1.imag)\n",
    "print('conjugate part of c1 is =',c1.conjugate())\n",
    "\n",
    "print('Addition of c1 and c2 is',c1+c2)\n",
    "print('Addition of c1 and c2 is',c1-c2)\n",
    "print('Addition of c1 and c2 is',c1*c2)\n",
    "print('Addition of c1 and c2 is',c1/c2)\n"
   ]
  },
  {
   "cell_type": "markdown",
   "metadata": {},
   "source": [
    "\"\"\"Research on range() functions and its parameters. Create a markdown cell and write in your own\n",
    "words (no copy-paste from google please) what you understand about it. Implement a small\n",
    "program of your choice on the same.\"\"\"\n",
    "\n",
    " range() function is used to generate a sequence of numbers.\n",
    "it allows us to generate series of no.s in the given range.\n",
    "range() mainly takse 3 argument : start , stop step.\n",
    "\n",
    "example:\n",
    "for i in range(6):\n",
    "    print(i, end=', ')\n",
    "    \n",
    "    Python range() example\n",
    "Get numbers from range 0 to 6\n",
    "0, 1, 2, 3, 4, 5,"
   ]
  },
  {
   "cell_type": "code",
   "execution_count": 9,
   "metadata": {},
   "outputs": [
    {
     "name": "stdout",
     "output_type": "stream",
     "text": [
      "Enter no. 1 ..2\n",
      "Enter no. 2 ..4\n",
      "Division is= 0.5\n"
     ]
    }
   ],
   "source": [
    "'''Consider two numbers. Perform their subtraction and if the result of subtraction is greater than\n",
    "25, print their multiplication result else print their division result.'''\n",
    "n1=int(input('Enter no. 1 ..'))\n",
    "n2=int(input('Enter no. 2 ..'))\n",
    "n3=abs(n1-n2)\n",
    "\n",
    "if n3>25:\n",
    "    print('multiplication is =',(n1*n2))\n",
    "else:\n",
    "    print('Division is=',(n1/n2))\n",
    "    "
   ]
  },
  {
   "cell_type": "code",
   "execution_count": 16,
   "metadata": {},
   "outputs": [
    {
     "name": "stdout",
     "output_type": "stream",
     "text": [
      "square of that number  2  minus 2 is.. 2\n",
      "square of that number  4  minus 2 is.. 14\n",
      "square of that number  8  minus 2 is.. 62\n",
      "square of that number  32  minus 2 is.. 1022\n"
     ]
    }
   ],
   "source": [
    "\"\"\"Consider a list of 10 elements of integer values. If the number in the list is divisible by 2, print the\n",
    "result as \"square of that number minus 2\".\"\"\"\n",
    "l=[2,4,65,7,8,9,0,45,32,13]\n",
    "for i in l:\n",
    "    if i%2==0 and i!=0:\n",
    "        print('square of that number ',i,' minus 2 is..',(i**2)-2)\n"
   ]
  },
  {
   "cell_type": "code",
   "execution_count": 20,
   "metadata": {},
   "outputs": [
    {
     "name": "stdout",
     "output_type": "stream",
     "text": [
      "65 45 32 "
     ]
    }
   ],
   "source": [
    "\"\"\"Consider a list of 10 elements. Print all the elements in the list which are greater than 7 \n",
    "when that number is divided 2.\"\"\"\n",
    "l=[2,4,65,7,8,9,0,45,32,13]\n",
    "for i in l:\n",
    "    if (i/2)>7:\n",
    "        print(i,end=\" \")\n",
    "\n",
    "\n"
   ]
  },
  {
   "cell_type": "code",
   "execution_count": null,
   "metadata": {},
   "outputs": [],
   "source": []
  }
 ],
 "metadata": {
  "kernelspec": {
   "display_name": "Python 3",
   "language": "python",
   "name": "python3"
  },
  "language_info": {
   "codemirror_mode": {
    "name": "ipython",
    "version": 3
   },
   "file_extension": ".py",
   "mimetype": "text/x-python",
   "name": "python",
   "nbconvert_exporter": "python",
   "pygments_lexer": "ipython3",
   "version": "3.7.6"
  },
  "toc": {
   "base_numbering": 1,
   "nav_menu": {},
   "number_sections": true,
   "sideBar": true,
   "skip_h1_title": false,
   "title_cell": "Table of Contents",
   "title_sidebar": "Contents",
   "toc_cell": false,
   "toc_position": {},
   "toc_section_display": true,
   "toc_window_display": true
  }
 },
 "nbformat": 4,
 "nbformat_minor": 4
}
