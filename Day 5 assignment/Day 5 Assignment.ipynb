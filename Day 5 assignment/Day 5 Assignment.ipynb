{
 "cells": [
  {
   "cell_type": "markdown",
   "metadata": {},
   "source": [
    "__Write a Python program to find the first 20 non-even prime natural numbers."
   ]
  },
  {
   "cell_type": "code",
   "execution_count": 60,
   "metadata": {},
   "outputs": [
    {
     "name": "stdout",
     "output_type": "stream",
     "text": [
      "1.3 is prime\n",
      "2.5 is prime\n",
      "3.7 is prime\n",
      "4.11 is prime\n",
      "5.13 is prime\n",
      "6.17 is prime\n",
      "7.19 is prime\n",
      "8.23 is prime\n",
      "9.29 is prime\n",
      "10.31 is prime\n",
      "11.37 is prime\n",
      "12.41 is prime\n",
      "13.43 is prime\n",
      "14.47 is prime\n",
      "15.53 is prime\n",
      "16.59 is prime\n",
      "17.61 is prime\n",
      "18.67 is prime\n",
      "19.71 is prime\n",
      "20.73 is prime\n"
     ]
    }
   ],
   "source": [
    "a=0\n",
    "n=0\n",
    "while a!=20:\n",
    "    if n>1:\n",
    "        for i in range(2,n):\n",
    "            if(n%i) == 0:\n",
    "                break\n",
    "        else:\n",
    "            if n%2 != 0:\n",
    "                print(f\"{a+1}.{n} is prime\")\n",
    "                a=a+1      \n",
    "    n=n+1         "
   ]
  },
  {
   "cell_type": "markdown",
   "metadata": {},
   "source": [
    "__Write a Python program to implement 15 functions of string."
   ]
  },
  {
   "cell_type": "code",
   "execution_count": 45,
   "metadata": {},
   "outputs": [
    {
     "name": "stdout",
     "output_type": "stream",
     "text": [
      "My age is 23\n",
      "hello, and welcome to my world!\n",
      "       apple        \n",
      "2\n",
      "True\n",
      "H   e   l   l   o\n",
      "7\n",
      "For only 49.00 dollars!\n",
      "True\n",
      "True\n",
      "True\n",
      "True\n",
      "True\n",
      "True\n",
      "True\n",
      "False\n",
      "Ajay#vijay#Ravi\n",
      "nameTESTcountry\n",
      "hello my friends\n"
     ]
    }
   ],
   "source": [
    "txt1 = \"my age is 23\"\n",
    "n1= txt1.capitalize()\n",
    "print (n1)\n",
    "\n",
    "txt2 = \"Hello, And Welcome To My World!\"\n",
    "n2 = txt2.casefold()\n",
    "print(n2)\n",
    "\n",
    "txt3 = \"apple\"\n",
    "x3 = txt3.center(20)\n",
    "print(x3)\n",
    "\n",
    "txt4 = \"I love mangoes, mangoes are my favorite fruit\"\n",
    "x4 = txt4.count(\"mangoes\")\n",
    "print(x4)\n",
    "\n",
    "txt5 = \"Hello, welcome to my world.\"\n",
    "x5 = txt5.endswith(\".\")\n",
    "print(x5)\n",
    "\n",
    "txt6 = \"H\\te\\tl\\tl\\to\"\n",
    "x6 =  txt6.expandtabs(4)\n",
    "print(x6)\n",
    "\n",
    "txt7 = \"Hello, welcome to my world.\"\n",
    "x7 = txt7.find(\"welcome\")\n",
    "print(x7)\n",
    "\n",
    "txt8 = \"For only {price:.2f} dollars!\"\n",
    "print(txt8.format(price = 49))\n",
    "\n",
    "txt9 = \"Company12\"\n",
    "x9 = txt9.isalnum()\n",
    "print(x9)\n",
    "\n",
    "txt10 = \"CompanyX\"\n",
    "x10 = txt10.isalpha()\n",
    "print(x10)\n",
    "\n",
    "txt11 = \"50800\"\n",
    "x11 = txt11.isdigit()\n",
    "print(x11)\n",
    "\n",
    "txt12 = \"hello world!\"\n",
    "x12 = txt12.islower()\n",
    "print(x12)\n",
    "\n",
    "txt13 = \"565543\"\n",
    "x13 = txt13.isnumeric()\n",
    "print(x13)\n",
    "\n",
    "\n",
    "a = \"\\u0030\" #unicode for 0\n",
    "b = \"\\u00B2\" #unicode for &sup2;\n",
    "c = \"10km2\"\n",
    "\n",
    "print(a.isnumeric())\n",
    "print(b.isnumeric())\n",
    "print(c.isnumeric())\n",
    "\n",
    "myTuple = (\"Ajay\", \"vijay\", \"Ravi\")\n",
    "x14 = \"#\".join(myTuple)\n",
    "print(x14)\n",
    "\n",
    "myDict = {\"name\": \"ajay\", \"country\": \"india\"}\n",
    "mySeparator = \"TEST\"\n",
    "x = mySeparator.join(myDict)\n",
    "print(x)\n",
    "\n",
    "txt15 = \"Hello my FRIENDS\"\n",
    "x15 = txt15.lower()\n",
    "print(x15)"
   ]
  },
  {
   "cell_type": "markdown",
   "metadata": {},
   "source": [
    "__Write a Python program to check if the given string is a Palindrome or Anagram or None of them.Display the message accordingly to the user.'''"
   ]
  },
  {
   "cell_type": "code",
   "execution_count": 65,
   "metadata": {},
   "outputs": [
    {
     "name": "stdout",
     "output_type": "stream",
     "text": [
      "Enter first string==sfd\n",
      "Enter second string==fg\n",
      "Given strings are Not Anagrams....\n"
     ]
    }
   ],
   "source": [
    "\n",
    "\n",
    "\n",
    "def check(s1,s2):\n",
    "    if(sorted(s1)==sorted(s2)):\n",
    "        print('Given strings are Anagrams....')\n",
    "    else:    \n",
    "        print('Given strings are Not Anagrams....')\n",
    "    \n",
    "    if(s1==s1[::-1]):\n",
    "        print('s1 is palindrome....')\n",
    "    \n",
    "    if(s2==s2[::-1]):\n",
    "        print('s2 is palindrome....')    \n",
    "\n",
    "s1=input('Enter first string==')\n",
    "s2=input('Enter second string==')\n",
    "check(s1,s2)\n"
   ]
  },
  {
   "cell_type": "markdown",
   "metadata": {},
   "source": [
    "___Write a Python's user defined function that removes all the additional characters from the string and converts it finally to lower case using built-in lower(). eg: If the string is \"Dr. Darshan Ingle @AI-ML Trainer\", then the output be \"drdarshaningleaimltrainer\""
   ]
  },
  {
   "cell_type": "code",
   "execution_count": 48,
   "metadata": {},
   "outputs": [
    {
     "name": "stdout",
     "output_type": "stream",
     "text": [
      "dr darshan ingle aiml trainer\n"
     ]
    }
   ],
   "source": [
    "s=\"Dr. Darshan Ingle @AI-ML Trainer\"\n",
    "def m1(s):\n",
    "    reg_char=\"abcdefghijklmnopqrstuvwxyz1234567890 \"\n",
    "    s=s.lower()\n",
    "    new_s=\"\"\n",
    "    for i in s:\n",
    "        if i in reg_char:\n",
    "            new_s+=i\n",
    "    print(new_s)\n",
    "    \n",
    "m1(s)    \n",
    "    "
   ]
  },
  {
   "cell_type": "code",
   "execution_count": 50,
   "metadata": {},
   "outputs": [
    {
     "name": "stdout",
     "output_type": "stream",
     "text": [
      "drdarshaningleaimltrainer"
     ]
    }
   ],
   "source": [
    "s=\"Dr. Darshan Ingle @AI-ML Trainer\"\n",
    "for i in s:\n",
    "    if i.isalpha():\n",
    "        print(i.lower(),end=\"\")"
   ]
  }
 ],
 "metadata": {
  "kernelspec": {
   "display_name": "Python 3",
   "language": "python",
   "name": "python3"
  },
  "language_info": {
   "codemirror_mode": {
    "name": "ipython",
    "version": 3
   },
   "file_extension": ".py",
   "mimetype": "text/x-python",
   "name": "python",
   "nbconvert_exporter": "python",
   "pygments_lexer": "ipython3",
   "version": "3.7.6"
  },
  "toc": {
   "base_numbering": 1,
   "nav_menu": {},
   "number_sections": true,
   "sideBar": true,
   "skip_h1_title": false,
   "title_cell": "Table of Contents",
   "title_sidebar": "Contents",
   "toc_cell": false,
   "toc_position": {},
   "toc_section_display": true,
   "toc_window_display": false
  }
 },
 "nbformat": 4,
 "nbformat_minor": 4
}
